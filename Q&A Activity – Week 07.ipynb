{
 "cells": [
  {
   "cell_type": "code",
   "execution_count": 43,
   "id": "27aa8f34",
   "metadata": {},
   "outputs": [],
   "source": [
    "import pandas as pd\n",
    "import numpy as np\n",
    "import matplotlib.pyplot as plt\n",
    "import seaborn as sns\n",
    "from scipy.stats import ttest_ind"
   ]
  },
  {
   "cell_type": "code",
   "execution_count": 44,
   "id": "22fce21f",
   "metadata": {},
   "outputs": [],
   "source": [
    "df=pd.read_csv(\"dataset w7.csv\")"
   ]
  },
  {
   "cell_type": "code",
   "execution_count": 45,
   "id": "a99ae213",
   "metadata": {},
   "outputs": [
    {
     "name": "stdout",
     "output_type": "stream",
     "text": [
      "<class 'pandas.core.frame.DataFrame'>\n",
      "RangeIndex: 28 entries, 0 to 27\n",
      "Data columns (total 3 columns):\n",
      " #   Column            Non-Null Count  Dtype \n",
      "---  ------            --------------  ----- \n",
      " 0   Gender            28 non-null     object\n",
      " 1   Test preparation  28 non-null     object\n",
      " 2   Total Marks       28 non-null     int64 \n",
      "dtypes: int64(1), object(2)\n",
      "memory usage: 800.0+ bytes\n"
     ]
    }
   ],
   "source": [
    "df.info()"
   ]
  },
  {
   "cell_type": "code",
   "execution_count": 46,
   "id": "632c43a6",
   "metadata": {},
   "outputs": [
    {
     "data": {
      "text/plain": [
       "female    16\n",
       "male      12\n",
       "Name: Gender, dtype: int64"
      ]
     },
     "execution_count": 46,
     "metadata": {},
     "output_type": "execute_result"
    }
   ],
   "source": [
    "df['Gender'].value_counts()"
   ]
  },
  {
   "cell_type": "code",
   "execution_count": 47,
   "id": "36879b99",
   "metadata": {},
   "outputs": [
    {
     "data": {
      "image/png": "[encoded data removed]",
      "text/plain": [
       "<Figure size 432x288 with 1 Axes>"
      ]
     },
     "metadata": {
      "needs_background": "light"
     },
     "output_type": "display_data"
    }
   ],
   "source": [
    "df['Gender'].value_counts().plot(kind='barh');"
   ]
  },
  {
   "cell_type": "code",
   "execution_count": 48,
   "id": "3049fd99",
   "metadata": {},
   "outputs": [],
   "source": [
    "#Female Students are more."
   ]
  },
  {
   "cell_type": "code",
   "execution_count": 49,
   "id": "f0e1ed63",
   "metadata": {},
   "outputs": [
    {
     "data": {
      "text/plain": [
       "<AxesSubplot:xlabel='Gender', ylabel='count'>"
      ]
     },
     "execution_count": 49,
     "metadata": {},
     "output_type": "execute_result"
    },
    {
     "data": {
      "image/png": "[encoded data removed]",
      "text/plain": [
       "<Figure size 432x288 with 1 Axes>"
      ]
     },
     "metadata": {
      "needs_background": "light"
     },
     "output_type": "display_data"
    }
   ],
   "source": [
    "sns.countplot(x='Gender',data=df,hue='Test preparation') "
   ]
  },
  {
   "cell_type": "code",
   "execution_count": 50,
   "id": "dee9a419",
   "metadata": {},
   "outputs": [],
   "source": [
    "#more female studens are completed the test preperation"
   ]
  },
  {
   "cell_type": "code",
   "execution_count": 51,
   "id": "39ea14b0",
   "metadata": {},
   "outputs": [
    {
     "data": {
      "text/plain": [
       "none         75.0\n",
       "completed    25.0\n",
       "Name: Test preparation, dtype: float64"
      ]
     },
     "execution_count": 51,
     "metadata": {},
     "output_type": "execute_result"
    }
   ],
   "source": [
    "df['Test preparation'].value_counts()/len(df)*100"
   ]
  },
  {
   "cell_type": "code",
   "execution_count": 52,
   "id": "07aa4f89",
   "metadata": {},
   "outputs": [],
   "source": [
    "#25% of students completed Test Preparation  75% Students not completed the Test Preperation"
   ]
  },
  {
   "cell_type": "code",
   "execution_count": 53,
   "id": "6c749284",
   "metadata": {},
   "outputs": [
    {
     "data": {
      "image/png": "[encoded data removed]",
      "text/plain": [
       "<Figure size 432x288 with 1 Axes>"
      ]
     },
     "metadata": {
      "needs_background": "light"
     },
     "output_type": "display_data"
    }
   ],
   "source": [
    "df['Test preparation'].value_counts().plot(kind='barh'); "
   ]
  },
  {
   "cell_type": "code",
   "execution_count": 54,
   "id": "6830befe",
   "metadata": {},
   "outputs": [
    {
     "data": {
      "text/plain": [
       "Gender              0\n",
       "Test preparation    0\n",
       "Total Marks         0\n",
       "dtype: int64"
      ]
     },
     "execution_count": 54,
     "metadata": {},
     "output_type": "execute_result"
    }
   ],
   "source": [
    "df.isnull().sum()"
   ]
  },
  {
   "cell_type": "code",
   "execution_count": 55,
   "id": "c7f573dd",
   "metadata": {},
   "outputs": [],
   "source": [
    "#There is no null values in the data"
   ]
  },
  {
   "cell_type": "code",
   "execution_count": 56,
   "id": "587dbd2d",
   "metadata": {},
   "outputs": [
    {
     "data": {
      "text/html": [
       "<div>\n",
       "<style scoped>\n",
       "    .dataframe tbody tr th:only-of-type {\n",
       "        vertical-align: middle;\n",
       "    }\n",
       "\n",
       "    .dataframe tbody tr th {\n",
       "        vertical-align: top;\n",
       "    }\n",
       "\n",
       "    .dataframe thead th {\n",
       "        text-align: right;\n",
       "    }\n",
       "</style>\n",
       "<table border=\"1\" class=\"dataframe\">\n",
       "  <thead>\n",
       "    <tr style=\"text-align: right;\">\n",
       "      <th></th>\n",
       "      <th>Gender</th>\n",
       "      <th>Test preparation</th>\n",
       "      <th>Total Marks</th>\n",
       "    </tr>\n",
       "  </thead>\n",
       "  <tbody>\n",
       "    <tr>\n",
       "      <th>0</th>\n",
       "      <td>male</td>\n",
       "      <td>none</td>\n",
       "      <td>14</td>\n",
       "    </tr>\n",
       "    <tr>\n",
       "      <th>1</th>\n",
       "      <td>female</td>\n",
       "      <td>none</td>\n",
       "      <td>28</td>\n",
       "    </tr>\n",
       "    <tr>\n",
       "      <th>2</th>\n",
       "      <td>female</td>\n",
       "      <td>none</td>\n",
       "      <td>18</td>\n",
       "    </tr>\n",
       "    <tr>\n",
       "      <th>3</th>\n",
       "      <td>female</td>\n",
       "      <td>none</td>\n",
       "      <td>48</td>\n",
       "    </tr>\n",
       "    <tr>\n",
       "      <th>4</th>\n",
       "      <td>female</td>\n",
       "      <td>none</td>\n",
       "      <td>21</td>\n",
       "    </tr>\n",
       "  </tbody>\n",
       "</table>\n",
       "</div>"
      ],
      "text/plain": [
       "   Gender Test preparation  Total Marks\n",
       "0    male             none           14\n",
       "1  female             none           28\n",
       "2  female             none           18\n",
       "3  female             none           48\n",
       "4  female             none           21"
      ]
     },
     "execution_count": 56,
     "metadata": {},
     "output_type": "execute_result"
    }
   ],
   "source": [
    "df.head()"
   ]
  },
  {
   "cell_type": "code",
   "execution_count": 57,
   "id": "4f57bb70",
   "metadata": {},
   "outputs": [
    {
     "data": {
      "text/plain": [
       "count    28.000000\n",
       "mean     32.321429\n",
       "std      12.454520\n",
       "min      12.000000\n",
       "25%      22.500000\n",
       "50%      33.000000\n",
       "75%      43.250000\n",
       "max      50.000000\n",
       "Name: Total Marks, dtype: float64"
      ]
     },
     "execution_count": 57,
     "metadata": {},
     "output_type": "execute_result"
    }
   ],
   "source": [
    "df[\"Total Marks\"].describe()"
   ]
  },
  {
   "cell_type": "code",
   "execution_count": 58,
   "id": "e0a547a5",
   "metadata": {},
   "outputs": [
    {
     "data": {
      "text/plain": [
       "155.11507936507937"
      ]
     },
     "execution_count": 58,
     "metadata": {},
     "output_type": "execute_result"
    }
   ],
   "source": [
    "df[\"Total Marks\"].var()"
   ]
  },
  {
   "cell_type": "code",
   "execution_count": 59,
   "id": "d8887707",
   "metadata": {},
   "outputs": [
    {
     "data": {
      "text/plain": [
       "12.454520438984368"
      ]
     },
     "execution_count": 59,
     "metadata": {},
     "output_type": "execute_result"
    }
   ],
   "source": [
    "df[\"Total Marks\"].std()"
   ]
  },
  {
   "cell_type": "code",
   "execution_count": 60,
   "id": "23d451d2",
   "metadata": {},
   "outputs": [
    {
     "data": {
      "text/plain": [
       "10.5"
      ]
     },
     "execution_count": 60,
     "metadata": {},
     "output_type": "execute_result"
    }
   ],
   "source": [
    "abs_median_devs=abs(df[\"Total Marks\"].median()-df[\"Total Marks\"])\n",
    "abs_median_devs.median()"
   ]
  },
  {
   "cell_type": "code",
   "execution_count": 61,
   "id": "0bdcb010",
   "metadata": {},
   "outputs": [
    {
     "data": {
      "text/html": [
       "<div>\n",
       "<style scoped>\n",
       "    .dataframe tbody tr th:only-of-type {\n",
       "        vertical-align: middle;\n",
       "    }\n",
       "\n",
       "    .dataframe tbody tr th {\n",
       "        vertical-align: top;\n",
       "    }\n",
       "\n",
       "    .dataframe thead th {\n",
       "        text-align: right;\n",
       "    }\n",
       "</style>\n",
       "<table border=\"1\" class=\"dataframe\">\n",
       "  <thead>\n",
       "    <tr style=\"text-align: right;\">\n",
       "      <th></th>\n",
       "      <th></th>\n",
       "      <th>count</th>\n",
       "      <th>mean</th>\n",
       "      <th>std</th>\n",
       "      <th>min</th>\n",
       "      <th>25%</th>\n",
       "      <th>50%</th>\n",
       "      <th>75%</th>\n",
       "      <th>max</th>\n",
       "    </tr>\n",
       "    <tr>\n",
       "      <th>Gender</th>\n",
       "      <th>Test preparation</th>\n",
       "      <th></th>\n",
       "      <th></th>\n",
       "      <th></th>\n",
       "      <th></th>\n",
       "      <th></th>\n",
       "      <th></th>\n",
       "      <th></th>\n",
       "      <th></th>\n",
       "    </tr>\n",
       "  </thead>\n",
       "  <tbody>\n",
       "    <tr>\n",
       "      <th rowspan=\"2\" valign=\"top\">female</th>\n",
       "      <th>completed</th>\n",
       "      <td>4.0</td>\n",
       "      <td>45.250000</td>\n",
       "      <td>4.573474</td>\n",
       "      <td>40.0</td>\n",
       "      <td>42.25</td>\n",
       "      <td>45.5</td>\n",
       "      <td>48.5</td>\n",
       "      <td>50.0</td>\n",
       "    </tr>\n",
       "    <tr>\n",
       "      <th>none</th>\n",
       "      <td>12.0</td>\n",
       "      <td>29.916667</td>\n",
       "      <td>12.486053</td>\n",
       "      <td>12.0</td>\n",
       "      <td>20.25</td>\n",
       "      <td>27.5</td>\n",
       "      <td>41.0</td>\n",
       "      <td>48.0</td>\n",
       "    </tr>\n",
       "    <tr>\n",
       "      <th rowspan=\"2\" valign=\"top\">male</th>\n",
       "      <th>completed</th>\n",
       "      <td>3.0</td>\n",
       "      <td>43.666667</td>\n",
       "      <td>0.577350</td>\n",
       "      <td>43.0</td>\n",
       "      <td>43.50</td>\n",
       "      <td>44.0</td>\n",
       "      <td>44.0</td>\n",
       "      <td>44.0</td>\n",
       "    </tr>\n",
       "    <tr>\n",
       "      <th>none</th>\n",
       "      <td>9.0</td>\n",
       "      <td>26.000000</td>\n",
       "      <td>10.758717</td>\n",
       "      <td>14.0</td>\n",
       "      <td>18.00</td>\n",
       "      <td>24.0</td>\n",
       "      <td>30.0</td>\n",
       "      <td>47.0</td>\n",
       "    </tr>\n",
       "  </tbody>\n",
       "</table>\n",
       "</div>"
      ],
      "text/plain": [
       "                         count       mean        std   min    25%   50%   75%  \\\n",
       "Gender Test preparation                                                         \n",
       "female completed           4.0  45.250000   4.573474  40.0  42.25  45.5  48.5   \n",
       "       none               12.0  29.916667  12.486053  12.0  20.25  27.5  41.0   \n",
       "male   completed           3.0  43.666667   0.577350  43.0  43.50  44.0  44.0   \n",
       "       none                9.0  26.000000  10.758717  14.0  18.00  24.0  30.0   \n",
       "\n",
       "                          max  \n",
       "Gender Test preparation        \n",
       "female completed         50.0  \n",
       "       none              48.0  \n",
       "male   completed         44.0  \n",
       "       none              47.0  "
      ]
     },
     "execution_count": 61,
     "metadata": {},
     "output_type": "execute_result"
    }
   ],
   "source": [
    "df.groupby([\"Gender\",\"Test preparation\"])['Total Marks'].describe()"
   ]
  },
  {
   "cell_type": "code",
   "execution_count": 62,
   "id": "b9931ddf",
   "metadata": {},
   "outputs": [],
   "source": [
    "#From the above data,we can infer the below points.\n",
    "#1. 25% of students completed Test Preparation  75% Students not completed the Test Preperation\n",
    "#2. Female students are more in the dataset.\n",
    "#3. There is no null values in the data\n",
    "#4. Femal and male both genders are scoring minimum 40 or above if they are completed the test prperation.\n",
    "    #Otherwise scoring less marks.It means the test preparation has an impact on the marks.\n",
    "\n"
   ]
  },
  {
   "cell_type": "markdown",
   "id": "39cb3583",
   "metadata": {},
   "source": [
    "# 2. Check whether female and male students scored the same marks."
   ]
  },
  {
   "cell_type": "code",
   "execution_count": 63,
   "id": "76c2c4d9",
   "metadata": {},
   "outputs": [],
   "source": [
    "#Hypothesis setting\n",
    "#H0 as Null Hypothesis and Ha as Alternate Hypothysis.\n",
    "#H0:Femal and Male didnot score the smae marks\n",
    "#Ha:female and male students score the same marks"
   ]
  },
  {
   "cell_type": "code",
   "execution_count": 64,
   "id": "7fc5805b",
   "metadata": {},
   "outputs": [],
   "source": [
    "alpha=0.05\n",
    "female=df[df['Gender']=='female']['Total Marks']\n",
    "male=df[df['Gender']=='male']['Total Marks']"
   ]
  },
  {
   "cell_type": "code",
   "execution_count": 65,
   "id": "f714548b",
   "metadata": {},
   "outputs": [
    {
     "name": "stdout",
     "output_type": "stream",
     "text": [
      "p value: 0.4937822317960763\n"
     ]
    }
   ],
   "source": [
    "_,p=ttest_ind(female,male)\n",
    "print('p value:',p)"
   ]
  },
  {
   "cell_type": "code",
   "execution_count": 66,
   "id": "38fd0d12",
   "metadata": {},
   "outputs": [
    {
     "name": "stdout",
     "output_type": "stream",
     "text": [
      "fail to reject the Null Hypothesis,H0\n"
     ]
    }
   ],
   "source": [
    "if p> alpha:\n",
    "    print ('fail to reject the Null Hypothesis,H0')\n",
    "else:\n",
    "    print('Reject the Null Hypothesis,H0')"
   ]
  },
  {
   "cell_type": "code",
   "execution_count": 67,
   "id": "0d1480a1",
   "metadata": {},
   "outputs": [],
   "source": [
    "#We can conclude that male and female students did not score the same mark as per the t-test"
   ]
  },
  {
   "cell_type": "markdown",
   "id": "a34add0c",
   "metadata": {},
   "source": [
    "# 3. Whether test preparation helps the students?"
   ]
  },
  {
   "cell_type": "code",
   "execution_count": 68,
   "id": "361bcdf0",
   "metadata": {},
   "outputs": [],
   "source": [
    "#Hypothesis setting\n",
    "#H0 as Null Hypothesis and Ha as Alternate Hypothysis.\n",
    "#H0:Test preparation did not help students.\n",
    "#Ha:Test preparation helps the students."
   ]
  },
  {
   "cell_type": "code",
   "execution_count": 69,
   "id": "f07d105b",
   "metadata": {},
   "outputs": [],
   "source": [
    "No_Test=df[df['Test preparation']=='none']['Total Marks']\n",
    "Test_Done=df[df['Test preparation']=='completed']['Total Marks']\n",
    "alpha=0.05"
   ]
  },
  {
   "cell_type": "code",
   "execution_count": 70,
   "id": "0a110344",
   "metadata": {},
   "outputs": [
    {
     "name": "stdout",
     "output_type": "stream",
     "text": [
      "P value is 0.0012671292457320106\n"
     ]
    }
   ],
   "source": [
    "_,p=ttest_ind(No_Test,Test_Done)\n",
    "print(\"P value is\",p)"
   ]
  },
  {
   "cell_type": "code",
   "execution_count": 71,
   "id": "339896ea",
   "metadata": {
    "scrolled": true
   },
   "outputs": [
    {
     "name": "stdout",
     "output_type": "stream",
     "text": [
      "Rejecting the Null Hypothesis,H0\n"
     ]
    }
   ],
   "source": [
    "if p> alpha:\n",
    "    print ('Fail to reject the Null Hypothesis,H0')\n",
    "else:\n",
    "    print('Rejecting the Null Hypothesis,H0')"
   ]
  },
  {
   "cell_type": "code",
   "execution_count": 72,
   "id": "0c0059d2",
   "metadata": {},
   "outputs": [],
   "source": [
    "#We can conclude that test preparation helped the students"
   ]
  }
 ],
 "metadata": {
  "kernelspec": {
   "display_name": "Python 3 (ipykernel)",
   "language": "python",
   "name": "python3"
  },
  "language_info": {
   "codemirror_mode": {
    "name": "ipython",
    "version": 3
   },
   "file_extension": ".py",
   "mimetype": "text/x-python",
   "name": "python",
   "nbconvert_exporter": "python",
   "pygments_lexer": "ipython3",
   "version": "3.9.12"
  }
 },
 "nbformat": 4,
 "nbformat_minor": 5
}
